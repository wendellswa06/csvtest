{
 "cells": [
  {
   "cell_type": "code",
   "execution_count": 1,
   "metadata": {},
   "outputs": [],
   "source": [
    "import pandas as pd\n",
    "import time\n",
    "from langchain.chat_models import ChatOpenAI\n",
    "from langchain.prompts.chat import ChatPromptTemplate, SystemMessagePromptTemplate, AIMessagePromptTemplate, HumanMessagePromptTemplate"
   ]
  },
  {
   "cell_type": "code",
   "execution_count": 94,
   "metadata": {},
   "outputs": [],
   "source": [
    "pathA = 'data/table_A.csv'\n",
    "# pathB = 'data/table_B.csv'\n",
    "pathT = 'data/template - Copy.csv'\n",
    "pathR = 'data/result.csv'"
   ]
  },
  {
   "cell_type": "code",
   "execution_count": 95,
   "metadata": {},
   "outputs": [],
   "source": [
    "openai_api_key = '\t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'\n",
    "# openai_api_key = '\t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'"
   ]
  },
  {
   "cell_type": "code",
   "execution_count": 96,
   "metadata": {},
   "outputs": [],
   "source": [
    "chat_llm = ChatOpenAI(temperature=0, model_name='gpt-3.5-turbo-16k', openai_api_key=openai_api_key, verbose=False)"
   ]
  },
  {
   "cell_type": "code",
   "execution_count": 97,
   "metadata": {},
   "outputs": [],
   "source": [
    "def get_column_names(path):\n",
    "    df = pd.read_csv(path)\n",
    "    column_names = df.columns.to_list()\n",
    "    return column_names"
   ]
  },
  {
   "cell_type": "code",
   "execution_count": 98,
   "metadata": {},
   "outputs": [],
   "source": [
    "def read_columns(path):\n",
    "    column_list = []\n",
    "    df = pd.read_csv(path)\n",
    "    column_names = df.columns.to_list()\n",
    "    \n",
    "    for i in range(len(column_names)):\n",
    "        head_content = f\"{column_names[i]} : \"\n",
    "        content = df[column_names[i]].to_list()\n",
    "        content = \",\".join(map(str, content))\n",
    "        head_content += f\"{content}\"\n",
    "        # print(f\"{head_content}\\n\")\n",
    "        column_list.append(head_content)\n",
    "    return column_list"
   ]
  },
  {
   "cell_type": "code",
   "execution_count": 100,
   "metadata": {},
   "outputs": [],
   "source": [
    "contentA = read_columns(pathA)\n",
    "# contentB = read_columns(pathB)\n",
    "contentT = read_columns(pathT)"
   ]
  },
  {
   "cell_type": "markdown",
   "metadata": {},
   "source": [
    "# find similar columns in source table for target col"
   ]
  },
  {
   "cell_type": "code",
   "execution_count": 101,
   "metadata": {},
   "outputs": [
    {
     "name": "stdout",
     "output_type": "stream",
     "text": [
      "---------------------------------------------------\n",
      "Plan : Gold,Silver,Bronze,Gold,Silver,Bronze,Gold,Silver,Bronze,Gold The most relevant column : Insurance_Plan\n"
     ]
    }
   ],
   "source": [
    "def find_similar(src_str, tgt_str):\n",
    "    sys_template = (f\"\"\"You are a helpful assistant and you will be given one colmun from a table and a target table.\n",
    "                    The column is formatted in this type : \"column title : [elements separated by comma]\"\n",
    "                    The target table is formatted in this type : \"column1|column2|...|columnN\"\n",
    "                    N is the number of columns in the table and column1, column2, ..., columnN are the columns in the table.\n",
    "                    Each column(column1, column2, ..., columnN) of the table is formatted in the same type as the given column.\n",
    "                    Your task is to find the most similar column in the target table for the given column based on analysis of the value, data type and the structure of the elements and the column titles of the given column and of the columns in the table and then return its title.\n",
    "                    Here's the return style.\n",
    "                    The most relavant column : column title\n",
    "                                        \n",
    "                    Here are two inputs.\n",
    "                    The given column is {src_str}\n",
    "                    The target table is {tgt_str}\n",
    "                    \"\"\")\n",
    "#                    They may differ in row names, value formats, value variants, are different samples from the same row or others.\n",
    "                    #Print the zeroth value of the second row.\n",
    "    system_message_prompt = SystemMessagePromptTemplate.from_template(sys_template)\n",
    "    human_template = \"\"\n",
    "    human_message_prompt = HumanMessagePromptTemplate.from_template(human_template)\n",
    "    chat_prompt = ChatPromptTemplate.from_messages([system_message_prompt, human_message_prompt])\n",
    "    \n",
    "    result = chat_llm(chat_prompt.format_prompt(src_str=src_str, tgt_str=tgt_str).to_messages())\n",
    "    print('---------------------------------------------------')\n",
    "    # print(result.content.split('\"')[3].split(':')[0].strip())\n",
    "    return result\n",
    "\n",
    "# for i in range(5):\n",
    "#     result = find_similar(contentT[i], contentA)\n",
    "#     time.sleep(20)\n",
    "#     print(contentT[i], result.content)\n",
    "i = 2\n",
    "result = find_similar(contentT[i], contentA)\n",
    "print(contentT[i], result.content)"
   ]
  },
  {
   "cell_type": "markdown",
   "metadata": {},
   "source": [
    "# Generate Transforming code"
   ]
  },
  {
   "cell_type": "code",
   "execution_count": 102,
   "metadata": {},
   "outputs": [
    {
     "name": "stdout",
     "output_type": "stream",
     "text": [
      "---------------------------------------------------\n",
      "5/1/2023,5/2/2023,5/3/2023,5/4/2023,5/5/2023,5/6/2023,5/7/2023,5/8/2023,5/9/2023,5/10/2023\n",
      "def convert_func(date_string):\n",
      "    dates = date_string.split(\",\")\n",
      "    converted_dates = []\n",
      "    for date in dates:\n",
      "        parts = date.split(\"/\")\n",
      "        converted_date = parts[1] + \"/\" + parts[0] + \"/\" + parts[2]\n",
      "        converted_dates.append(converted_date)\n",
      "    return \",\".join(converted_dates)\n"
     ]
    }
   ],
   "source": [
    "def generate_code(src_str, tgt_str):\n",
    "    sys_template = (\"\"\"You are a helpful assistant and you will be given two columns from two tables.\n",
    "                    Each column is formatted in this type : \"[elements separated by comma]\"\n",
    "                    \n",
    "                    Your task is to develop a function named convert_func which converts format of {src_str} into the format of {tgt_str} for general purpose.\n",
    "                    {src_str} is the only one parameter which is passing through the convert_func.\n",
    "                    Don't consider the number of elements in {src_str} and {tgt_str} or a specific number while displaying the result.\n",
    "                    \n",
    "                    Here is the return type.\n",
    "                    output : convert_func\n",
    "                    \n",
    "                    Here are two columns to compare.\n",
    "                    {src_str}\n",
    "                    {tgt_str}\n",
    "                    \"\"\")\n",
    "    # i.e.\n",
    "    #                 {src_str} = \"name1 : [val1, val2,...]\"\n",
    "    #                 convert_func(val1), convert_func(val2) are possible but convert_func(src_str) is not possible.\n",
    "#                    They may differ in row names, value formats, value variants, are different samples from the same row or others.\n",
    "                    #Print the zeroth value of the second row.\n",
    "    system_message_prompt = SystemMessagePromptTemplate.from_template(sys_template)\n",
    "    human_template = \"\"\n",
    "    human_message_prompt = HumanMessagePromptTemplate.from_template(human_template)\n",
    "    chat_prompt = ChatPromptTemplate.from_messages([system_message_prompt, human_message_prompt])\n",
    "    \n",
    "    result = chat_llm(chat_prompt.format_prompt(src_str=src_str, tgt_str=tgt_str).to_messages())\n",
    "    print('---------------------------------------------------')\n",
    "    \n",
    "    return result.content\n",
    "\n",
    "function_code = generate_code(contentA[0].split(\" : \")[1], contentT[0].split(\" : \")[1])\n",
    "print(contentA[0].split(\" : \")[1])\n",
    "print(function_code)"
   ]
  },
  {
   "cell_type": "code",
   "execution_count": null,
   "metadata": {},
   "outputs": [],
   "source": [
    "# def extract_code(src_str):\n",
    "#     sys_template = (\"\"\"You are a helpful assistant and you will be given a string which contains the python code and explanations.\n",
    "#                     The given string contains a python function definition and other description parts.\n",
    "                    \n",
    "#                     Your task is to extract only python function definition from the string {src_str} and to return function definition\n",
    "               \n",
    "                                        \n",
    "#                     \"\"\")\n",
    "# #                    They may differ in row names, value formats, value variants, are different samples from the same row or others.\n",
    "#                     #Print the zeroth value of the second row.\n",
    "#     system_message_prompt = SystemMessagePromptTemplate.from_template(sys_template)\n",
    "#     human_template = \"\"\n",
    "#     human_message_prompt = HumanMessagePromptTemplate.from_template(human_template)\n",
    "#     chat_prompt = ChatPromptTemplate.from_messages([system_message_prompt, human_message_prompt])\n",
    "    \n",
    "#     result = chat_llm(chat_prompt.format_prompt(src_str=src_str).to_messages())\n",
    "#     print('---------------------------------------------------')\n",
    "#     # print(result.content.split('\"')[3].split(':')[0].strip())\n",
    "#     return result.content"
   ]
  },
  {
   "cell_type": "markdown",
   "metadata": {},
   "source": [
    "# Get similar pairs of columns and transforming func"
   ]
  },
  {
   "cell_type": "code",
   "execution_count": 103,
   "metadata": {},
   "outputs": [
    {
     "name": "stdout",
     "output_type": "stream",
     "text": [
      "----------------------------------------------------------------\n",
      "---------------------------------------------------\n",
      "---------------------------------------------------\n",
      "---------------------------------------------------\n",
      "---------------------------------------------------\n",
      "---------------------------------------------------\n",
      "{'Date': 'Date_of_Policy', 'EmployeeName': 'FullName', 'Plan': 'Insurance_Plan', 'PolicyNumber': 'Policy_No', 'Premium': 'Monthly_Premium'}\n",
      "colA is ['5/1/2023', '5/2/2023', '5/3/2023', '5/4/2023', '5/5/2023', '5/6/2023', '5/7/2023', '5/8/2023', '5/9/2023', '5/10/2023']\n",
      "Date_of_Policy : 5/1/2023,5/2/2023,5/3/2023,5/4/2023,5/5/2023,5/6/2023,5/7/2023,5/8/2023,5/9/2023,5/10/2023\n",
      "---------------------------------------------------\n",
      "colA is ['John Doe', 'Jane Smith', 'Michael Brown', 'Alice Johnson', 'Bob Wilson', 'Carol Martinez', 'David Anderson', 'Eva Thomas', 'Frank Jackson', 'Grace White']\n",
      "FullName : John Doe,Jane Smith,Michael Brown,Alice Johnson,Bob Wilson,Carol Martinez,David Anderson,Eva Thomas,Frank Jackson,Grace White\n",
      "---------------------------------------------------\n",
      "colA is ['Gold Plan', 'Silver Plan', 'Bronze Plan', 'Gold Plan', 'Silver Plan', 'Bronze Plan', 'Gold Plan', 'Silver Plan', 'Bronze Plan', 'Gold Plan']\n",
      "Insurance_Plan : Gold Plan,Silver Plan,Bronze Plan,Gold Plan,Silver Plan,Bronze Plan,Gold Plan,Silver Plan,Bronze Plan,Gold Plan\n",
      "---------------------------------------------------\n",
      "colA is ['AB-12345', 'CD-67890', 'EF-10111', 'GH-12121', 'IJ-13131', 'KL-14141', 'MN-15151', 'OP-16161', 'QR-17171', 'ST-18181']\n",
      "Policy_No : AB-12345,CD-67890,EF-10111,GH-12121,IJ-13131,KL-14141,MN-15151,OP-16161,QR-17171,ST-18181\n",
      "---------------------------------------------------\n",
      "colA is ['150', '100', '50', '150', '100', '50', '150', '100', '50', '150']\n",
      "Monthly_Premium : 150,100,50,150,100,50,150,100,50,150\n",
      "---------------------------------------------------\n"
     ]
    }
   ],
   "source": [
    "def convert_table(source_path, template_path, target_path):\n",
    "\n",
    "    src_path = \"data/src.csv\"\n",
    "    temp_path = \"data/temp.csv\"\n",
    "    df_source = pd.read_csv(source_path).dropna()\n",
    "    \n",
    "    \n",
    "    df_template = pd.read_csv(template_path).dropna()\n",
    "    df_template.to_csv(temp_path, index=False)\n",
    "    # df_target = pd.read_csv(target_path)\n",
    "    contentT = read_columns(temp_path)\n",
    "    len_temp = df_template.shape[0]\n",
    "    \n",
    "    df_src = df_source[:len_temp]\n",
    "    # print(list(df_src[\"FullName\"]))\n",
    "    # return {}, []\n",
    "    df_src.to_csv(src_path, index=False)\n",
    "    contentA = read_columns(src_path)\n",
    "    # print(df_src)\n",
    "    print('----------------------------------------------------------------')\n",
    "    \n",
    "    # print(len(contentA[0].split(':')[1].split(',')), len(contentT))\n",
    "    # print(find_similar(contentT[3], contentA).content.split(':')[1].strip())\n",
    "    mapping_column = {}\n",
    "    funcDict = {}\n",
    "    tempNameList = list(df_template.columns)\n",
    "    # print(tempNameList)\n",
    "    for i in range(len(tempNameList)):\n",
    "        relevantName = find_similar(contentT[i], contentA).content.split(':')[1].strip()\n",
    "        mapping_column[tempNameList[i]] = relevantName\n",
    "        time.sleep(i * 10)\n",
    "    print(mapping_column)\n",
    "    \n",
    "    for idx, title in enumerate(mapping_column):\n",
    "        col_nameA = mapping_column[title]\n",
    "        colA = list(df_src[col_nameA])\n",
    "        for i in range(len(colA)):\n",
    "            colA[i] = str(colA[i])\n",
    "        print(f\"colA is {colA}\")\n",
    "        src_str = f\"{col_nameA} : \" + \",\".join(colA)\n",
    "        print(src_str)        \n",
    "        tgt_str = contentT[idx]\n",
    "        code1 = generate_code(src_str, tgt_str)\n",
    "        time.sleep(10*(idx+1))\n",
    "        # code2 = extract_code(code1)\n",
    "        time.sleep(10*(idx+1))\n",
    "        \n",
    "        funcDict[col_nameA] = code1\n",
    "    return mapping_column, funcDict\n",
    "columnMapper, funcDict = convert_table(pathA, pathT, pathR)"
   ]
  },
  {
   "cell_type": "code",
   "execution_count": null,
   "metadata": {},
   "outputs": [],
   "source": [
    "# columnMapper, funcDict = convert_table(pathA, pathT, pathR)"
   ]
  },
  {
   "cell_type": "code",
   "execution_count": null,
   "metadata": {},
   "outputs": [],
   "source": [
    "# for i in range(len(funcList)):\n",
    "    # print(funcList[i])\n",
    "# print(funcDict[\"FullName\"])\n",
    "print(funcDict[\"Date_of_Policy\"])\n",
    "func = funcDict[\"Date_of_Policy\"]\n",
    "\n",
    "exec(func)\n",
    "print(convert_func(contentA[0].split(\" : \")[1]))"
   ]
  },
  {
   "cell_type": "code",
   "execution_count": null,
   "metadata": {},
   "outputs": [],
   "source": [
    "# def convert_format(src_str, tgt_str):\n",
    "#     sys_template = (\"\"\"You are a helpful assistant and you will be given two columns from two tables.\n",
    "#                     Each column is formatted in this type : \"column header : [column values separated by comma]\"\n",
    "                    \n",
    "#                     Your task is to convert the {src_str} into the format of {tgt_str}\n",
    "                    \n",
    "#                     Here is the return type.\n",
    "#                     output : converted format\n",
    "                    \n",
    "#                     Here are two columns to compare.\n",
    "#                     {src_str}\n",
    "#                     {tgt_str}\n",
    "#                     \"\"\")\n",
    "# # Your task is to determine whether these two columns are indicating the same field of data while they might not be able to indicate the same data and to find the code to convert the {src_str} into the format of {tgt_str} and to convert {src_str} into the format type of {tgt_str}.\n",
    "# # Return converted column of {src_str} with the same format as of the {tgt_str} without explanation if so, and the reason otherwise.\n",
    "# #                    They may differ in row names, value formats, value variants, are different samples from the same row or others.\n",
    "#                     #Print the zeroth value of the second row.\n",
    "#     system_message_prompt = SystemMessagePromptTemplate.from_template(sys_template)\n",
    "#     human_template = \"\"\n",
    "#     human_message_prompt = HumanMessagePromptTemplate.from_template(human_template)\n",
    "#     chat_prompt = ChatPromptTemplate.from_messages([system_message_prompt, human_message_prompt])\n",
    "    \n",
    "#     result = chat_llm(chat_prompt.format_prompt(src_str=src_str, tgt_str=tgt_str).to_messages())\n",
    "#     print('---------------------------------------------------')\n",
    "#     # print(result.content.split('\"')[3].split(':')[0].strip())\n",
    "#     return result.content.split(':')[1].strip()"
   ]
  },
  {
   "cell_type": "code",
   "execution_count": null,
   "metadata": {},
   "outputs": [],
   "source": [
    "# convert_format(contentA[0], contentT[0])"
   ]
  },
  {
   "cell_type": "code",
   "execution_count": null,
   "metadata": {},
   "outputs": [],
   "source": [
    "# def generate_code(src_str, tgt_str):\n",
    "#     sys_template = (\"\"\"You are a helpful assistant and you will be given two columns from two tables.\n",
    "#                     Each column is formatted in this type : \"column header : [column values separated by comma]\"\n",
    "                    \n",
    "#                     Your task is to find a function named convert_func which converts format of the each column value of {src_str} into the format of each column value of {tgt_str} .\n",
    "#                     convert_func only has one column value not a column.\n",
    "                    \n",
    "#                     Here is the return type.\n",
    "#                     output : convert_func\n",
    "                    \n",
    "#                     Here are two columns to compare.\n",
    "#                     {src_str}\n",
    "#                     {tgt_str}\n",
    "#                     \"\"\")\n",
    "# #                    They may differ in row names, value formats, value variants, are different samples from the same row or others.\n",
    "#                     #Print the zeroth value of the second row.\n",
    "#     system_message_prompt = SystemMessagePromptTemplate.from_template(sys_template)\n",
    "#     human_template = \"\"\n",
    "#     human_message_prompt = HumanMessagePromptTemplate.from_template(human_template)\n",
    "#     chat_prompt = ChatPromptTemplate.from_messages([system_message_prompt, human_message_prompt])\n",
    "    \n",
    "#     result = chat_llm(chat_prompt.format_prompt(src_str=src_str, tgt_str=tgt_str).to_messages())\n",
    "#     print('---------------------------------------------------')\n",
    "#     # print(result.content.split('\"')[3].split(':')[0].strip())\n",
    "#     return result.content"
   ]
  },
  {
   "cell_type": "code",
   "execution_count": null,
   "metadata": {},
   "outputs": [],
   "source": [
    "# def extract_code(src_str):\n",
    "#     sys_template = (\"\"\"You are a helpful assistant and you will be given a string which contains the python code and explanations.\n",
    "#                     The given string contains a python function definition and other description parts.\n",
    "                    \n",
    "#                     Your task is to extract only python function definition from the string {src_str} and to return function definition\n",
    "               \n",
    "                                        \n",
    "#                     \"\"\")\n",
    "# #                    They may differ in row names, value formats, value variants, are different samples from the same row or others.\n",
    "#                     #Print the zeroth value of the second row.\n",
    "#     system_message_prompt = SystemMessagePromptTemplate.from_template(sys_template)\n",
    "#     human_template = \"\"\n",
    "#     human_message_prompt = HumanMessagePromptTemplate.from_template(human_template)\n",
    "#     chat_prompt = ChatPromptTemplate.from_messages([system_message_prompt, human_message_prompt])\n",
    "    \n",
    "#     result = chat_llm(chat_prompt.format_prompt(src_str=src_str).to_messages())\n",
    "#     print('---------------------------------------------------')\n",
    "#     # print(result.content.split('\"')[3].split(':')[0].strip())\n",
    "#     return result.content"
   ]
  },
  {
   "cell_type": "code",
   "execution_count": null,
   "metadata": {},
   "outputs": [],
   "source": [
    "# function_code = generate_code(contentA[9], contentT[2])\n",
    "# print(function_code)\n",
    "# input_string = contentA[0]\n",
    "\n",
    "    "
   ]
  },
  {
   "cell_type": "code",
   "execution_count": null,
   "metadata": {},
   "outputs": [],
   "source": [
    "# # print(function_code)\n",
    "# code = extract_code(function_code)\n",
    "# exec(code)\n",
    "# print(code)\n",
    "# print(convert_func(\"5/6/2023\"))"
   ]
  },
  {
   "cell_type": "code",
   "execution_count": 56,
   "metadata": {},
   "outputs": [],
   "source": [
    "def create_result_table(source_path, result_path, mapper, fDict):\n",
    "    \n",
    "    df_src = pd.read_csv(source_path)\n",
    "    tgt_filter = []\n",
    "    col_filter = []\n",
    "    new_name_list = []\n",
    "    for idx, name in enumerate(mapper):\n",
    "        # print(idx, name)\n",
    "        col_filter.append(mapper[name])\n",
    "        tgt_filter.append(name)\n",
    "        new_name_list.append(name)\n",
    "    \n",
    "    df_filter = df_src[col_filter]\n",
    "    num_rows = len(df_filter)\n",
    "    \n",
    "    print(\"############ step 2 ############\")\n",
    "    # print(funcDict[\"Insurance_Type\"])\n",
    "    print(\"---------------------------------------------\")\n",
    "    for col in col_filter:\n",
    "        # time.sleep(20)\n",
    "        print(f\"col name is {col}\")\n",
    "        print(f\"-------------------{col}--------------------------\")\n",
    "        src_str = f\"{col} : \" + \",\".join(map(str, df_filter[col]))\n",
    "        # print(src_str)\n",
    "        func = fDict[col]\n",
    "        # print(func)\n",
    "        if col == \"FullName\":\n",
    "            print(func)\n",
    "        exec(func)\n",
    "        print(\"-------------------\")\n",
    "        src_str = src_str.split(\" : \")[1]\n",
    "        print(src_str)\n",
    "        tgt_str = convert_func(src_str)\n",
    "        print(f\"tgt_str : {tgt_str}\")\n",
    "        print(col, tgt_str)\n",
    "        tgt_list = tgt_str.split(\",\")\n",
    "        # print(tgt_list)\n",
    "        # df_filter[col] = tgt_list\n",
    "    # print(df_filter)\n",
    "    ################################\n",
    "    df_filter.columns = new_name_list\n",
    "    \n",
    "        \n",
    "        \n",
    "        \n",
    "        \n",
    "    ################################\n",
    "    df_filter.to_csv(result_path, index=False)\n",
    "    \n",
    "    # print(df_filter)\n",
    "    # print(col_filter)     \n",
    "    # df_rlt = df_src.to_csv(result_path, index=False)\n",
    "    # print(df_src)\n",
    "    # print(df_rlt)"
   ]
  },
  {
   "cell_type": "markdown",
   "metadata": {},
   "source": [
    "# Filter the dataframe from the source directory"
   ]
  },
  {
   "cell_type": "code",
   "execution_count": 91,
   "metadata": {},
   "outputs": [
    {
     "name": "stdout",
     "output_type": "stream",
     "text": [
      "(  Date_of_Policy        FullName Insurance_Plan Policy_No  Monthly_Premium\n",
      "0       5/1/2023        John Doe      Gold Plan  AB-12345              150\n",
      "1       5/2/2023      Jane Smith    Silver Plan  CD-67890              100\n",
      "2       5/3/2023   Michael Brown    Bronze Plan  EF-10111               50\n",
      "3       5/4/2023   Alice Johnson      Gold Plan  GH-12121              150\n",
      "4       5/5/2023      Bob Wilson    Silver Plan  IJ-13131              100\n",
      "5       5/6/2023  Carol Martinez    Bronze Plan  KL-14141               50\n",
      "6       5/7/2023  David Anderson      Gold Plan  MN-15151              150\n",
      "7       5/8/2023      Eva Thomas    Silver Plan  OP-16161              100\n",
      "8       5/9/2023   Frank Jackson    Bronze Plan  QR-17171               50\n",
      "9      5/10/2023     Grace White      Gold Plan  ST-18181              150, ['Date', 'EmployeeName', 'Plan', 'PolicyNumber', 'Premium'])\n"
     ]
    }
   ],
   "source": [
    "def filter_dataframe(source_path, mapper, fDict):\n",
    "    \n",
    "    df_src = pd.read_csv(source_path)\n",
    "    tgt_filter = []\n",
    "    col_filter = []\n",
    "    new_name_list = []\n",
    "    for idx, name in enumerate(mapper):\n",
    "        # print(idx, name)\n",
    "        col_filter.append(mapper[name])\n",
    "        tgt_filter.append(name)\n",
    "        new_name_list.append(name)\n",
    "    \n",
    "    df_filter = df_src[col_filter]\n",
    "    return df_filter, new_name_list\n",
    "print(filter_dataframe(pathA, columnMapper, funcDict))"
   ]
  },
  {
   "cell_type": "code",
   "execution_count": 93,
   "metadata": {},
   "outputs": [
    {
     "name": "stdout",
     "output_type": "stream",
     "text": [
      "1/5/2023,2/5/2023,3/5/2023,4/5/2023,5/5/2023,6/5/2023,7/5/2023,8/5/2023,9/5/2023,10/5/2023\n",
      "John Doe,Jane Smith,Michael Brown,Alice Johnson,Bob Wilson,Carol Martinez,David Anderson,Eva Thomas,Frank Jackson,Grace White\n",
      "Gold,Silver,Bronze,Gold,Silver,Bronze,Gold,Silver,Bronze,Gold\n",
      "AB12345,CD67890,EF10111,GH12121,IJ13131,KL14141,MN15151,OP16161,QR17171,ST18181\n",
      "150,-50,-50,100,-50,-50,100,-50,-50,100\n",
      "        Date    EmployeeName    Plan PolicyNumber Premium\n",
      "0   1/5/2023        John Doe    Gold      AB12345     150\n",
      "1   2/5/2023      Jane Smith  Silver      CD67890     -50\n",
      "2   3/5/2023   Michael Brown  Bronze      EF10111     -50\n",
      "3   4/5/2023   Alice Johnson    Gold      GH12121     100\n",
      "4   5/5/2023      Bob Wilson  Silver      IJ13131     -50\n",
      "5   6/5/2023  Carol Martinez  Bronze      KL14141     -50\n",
      "6   7/5/2023  David Anderson    Gold      MN15151     100\n",
      "7   8/5/2023      Eva Thomas  Silver      OP16161     -50\n",
      "8   9/5/2023   Frank Jackson  Bronze      QR17171     -50\n",
      "9  10/5/2023     Grace White    Gold      ST18181     100\n"
     ]
    }
   ],
   "source": [
    "df_src, new_name_list = filter_dataframe(pathA, columnMapper, funcDict)\n",
    "columnList = df_src.columns.to_list()\n",
    "numCol = len(columnList)\n",
    "for k in range(numCol):\n",
    "    col = columnList[k]\n",
    "    src_str = ','.join(map(str, df_src[col]))\n",
    "    func = funcDict[col]\n",
    "    exec(func)\n",
    "    tgt_str = convert_func(src_str)\n",
    "    df_src[col] = tgt_str.split(',')\n",
    "    print(tgt_str)\n",
    "\n",
    "df_src.columns = new_name_list\n",
    "print(df_src)\n",
    "df_src.to_csv(pathR, index=False)\n"
   ]
  }
 ],
 "metadata": {
  "kernelspec": {
   "display_name": "venv",
   "language": "python",
   "name": "python3"
  },
  "language_info": {
   "codemirror_mode": {
    "name": "ipython",
    "version": 3
   },
   "file_extension": ".py",
   "mimetype": "text/x-python",
   "name": "python",
   "nbconvert_exporter": "python",
   "pygments_lexer": "ipython3",
   "version": "3.11.4"
  },
  "orig_nbformat": 4
 },
 "nbformat": 4,
 "nbformat_minor": 2
}
